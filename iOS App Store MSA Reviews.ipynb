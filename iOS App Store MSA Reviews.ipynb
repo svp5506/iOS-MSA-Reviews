{
 "cells": [
  {
   "attachments": {},
   "cell_type": "markdown",
   "metadata": {},
   "source": [
    "**Step 1**\n",
    "\n",
    "Import the required Python libraries\n",
    "\n",
    "Include **app_id** & **app_name** from the iOS App Store URL\n",
    "\n",
    "Set number of reviews needed with **how_many**\n",
    "\n",
    "Set minimum date for reviews with **after**"
   ]
  },
  {
   "cell_type": "code",
   "execution_count": 14,
   "metadata": {},
   "outputs": [
    {
     "name": "stderr",
     "output_type": "stream",
     "text": [
      "2023-03-29 21:44:37,401 [INFO] Base - Initialised: AppStore('us', 'my-spectrum', 942608209)\n",
      "2023-03-29 21:44:37,402 [INFO] Base - Ready to fetch reviews from: https://apps.apple.com/us/app/my-spectrum/id942608209\n",
      "2023-03-29 21:44:42,450 [INFO] Base - [id:942608209] Fetched 51 reviews (51 fetched in total)\n",
      "2023-03-29 21:44:47,687 [INFO] Base - [id:942608209] Fetched 99 reviews (99 fetched in total)\n",
      "2023-03-29 21:44:52,956 [INFO] Base - [id:942608209] Fetched 133 reviews (133 fetched in total)\n",
      "2023-03-29 21:45:12,699 [ERROR] Base - Something went wrong: HTTPSConnectionPool(host='amp-api.apps.apple.com', port=443): Max retries exceeded with url: /v1/catalog/us/apps/942608209/reviews?l=en-GB&offset=2000&limit=20&platform=web&additionalPlatforms=appletv%2Cipad%2Ciphone%2Cmac (Caused by ResponseError('too many 429 error responses'))\n",
      "2023-03-29 21:45:12,702 [INFO] Base - [id:942608209] Fetched 146 reviews (146 fetched in total)\n"
     ]
    }
   ],
   "source": [
    "import pandas as pd\n",
    "import numpy as np\n",
    "import json\n",
    "import datetime\n",
    "\n",
    "from app_store_scraper import AppStore\n",
    "MSA_iOS = AppStore(country='us', app_name='my-spectrum', app_id = '942608209')\n",
    "\n",
    "MSA_iOS.review(how_many=2000, after=datetime.datetime(2023, 1, 1))"
   ]
  },
  {
   "attachments": {},
   "cell_type": "markdown",
   "metadata": {},
   "source": [
    "**Step 2**\n",
    "\n",
    "Add the pulled data to a dataframe\n",
    "\n",
    "Convert the JSON data to CSV\n",
    "\n",
    "Note that the developer response information is stored as a series"
   ]
  },
  {
   "cell_type": "code",
   "execution_count": 19,
   "metadata": {},
   "outputs": [
    {
     "data": {
      "text/html": [
       "<div>\n",
       "<style scoped>\n",
       "    .dataframe tbody tr th:only-of-type {\n",
       "        vertical-align: middle;\n",
       "    }\n",
       "\n",
       "    .dataframe tbody tr th {\n",
       "        vertical-align: top;\n",
       "    }\n",
       "\n",
       "    .dataframe thead th {\n",
       "        text-align: right;\n",
       "    }\n",
       "</style>\n",
       "<table border=\"1\" class=\"dataframe\">\n",
       "  <thead>\n",
       "    <tr style=\"text-align: right;\">\n",
       "      <th></th>\n",
       "      <th>date</th>\n",
       "      <th>developerResponse</th>\n",
       "      <th>review</th>\n",
       "      <th>rating</th>\n",
       "      <th>isEdited</th>\n",
       "      <th>title</th>\n",
       "      <th>userName</th>\n",
       "    </tr>\n",
       "  </thead>\n",
       "  <tbody>\n",
       "    <tr>\n",
       "      <th>0</th>\n",
       "      <td>2023-03-01 16:55:19</td>\n",
       "      <td>{'id': 35171306, 'body': 'We're sorry that you...</td>\n",
       "      <td>I’ve had spectrum/time Warner Wi-Fi for over d...</td>\n",
       "      <td>3</td>\n",
       "      <td>False</td>\n",
       "      <td>Spectrum Cellular</td>\n",
       "      <td>BRANDON. LOVE</td>\n",
       "    </tr>\n",
       "    <tr>\n",
       "      <th>1</th>\n",
       "      <td>2023-03-03 00:26:01</td>\n",
       "      <td>NaN</td>\n",
       "      <td>First of all, if you’re forced to get Spectrum...</td>\n",
       "      <td>1</td>\n",
       "      <td>False</td>\n",
       "      <td>Spectrum app and service is a scam</td>\n",
       "      <td>samross19</td>\n",
       "    </tr>\n",
       "    <tr>\n",
       "      <th>2</th>\n",
       "      <td>2023-02-03 03:35:09</td>\n",
       "      <td>{'id': 34672035, 'body': 'We're sorry that you...</td>\n",
       "      <td>I’ve spent 26 hours trying to install all of t...</td>\n",
       "      <td>1</td>\n",
       "      <td>False</td>\n",
       "      <td>WORST COMPANY EVER!!!</td>\n",
       "      <td>jwhall640</td>\n",
       "    </tr>\n",
       "    <tr>\n",
       "      <th>3</th>\n",
       "      <td>2023-01-08 06:20:22</td>\n",
       "      <td>NaN</td>\n",
       "      <td>Spectrum is really a poor quality service that...</td>\n",
       "      <td>1</td>\n",
       "      <td>False</td>\n",
       "      <td>Specters really a poor company</td>\n",
       "      <td>roy william g</td>\n",
       "    </tr>\n",
       "    <tr>\n",
       "      <th>4</th>\n",
       "      <td>2023-01-05 04:38:41</td>\n",
       "      <td>NaN</td>\n",
       "      <td>First off I was on the phone line with a agent...</td>\n",
       "      <td>1</td>\n",
       "      <td>False</td>\n",
       "      <td>Worse customer service</td>\n",
       "      <td>Precise23</td>\n",
       "    </tr>\n",
       "  </tbody>\n",
       "</table>\n",
       "</div>"
      ],
      "text/plain": [
       "                 date                                  developerResponse  \\\n",
       "0 2023-03-01 16:55:19  {'id': 35171306, 'body': 'We're sorry that you...   \n",
       "1 2023-03-03 00:26:01                                                NaN   \n",
       "2 2023-02-03 03:35:09  {'id': 34672035, 'body': 'We're sorry that you...   \n",
       "3 2023-01-08 06:20:22                                                NaN   \n",
       "4 2023-01-05 04:38:41                                                NaN   \n",
       "\n",
       "                                              review  rating  isEdited  \\\n",
       "0  I’ve had spectrum/time Warner Wi-Fi for over d...       3     False   \n",
       "1  First of all, if you’re forced to get Spectrum...       1     False   \n",
       "2  I’ve spent 26 hours trying to install all of t...       1     False   \n",
       "3  Spectrum is really a poor quality service that...       1     False   \n",
       "4  First off I was on the phone line with a agent...       1     False   \n",
       "\n",
       "                                title       userName  \n",
       "0                   Spectrum Cellular  BRANDON. LOVE  \n",
       "1  Spectrum app and service is a scam      samross19  \n",
       "2               WORST COMPANY EVER!!!      jwhall640  \n",
       "3      Specters really a poor company  roy william g  \n",
       "4              Worse customer service      Precise23  "
      ]
     },
     "execution_count": 19,
     "metadata": {},
     "output_type": "execute_result"
    }
   ],
   "source": [
    "MSA_iOSdf = pd.DataFrame(np.array(MSA_iOS.reviews),columns=['review'])\n",
    "MSA_iOSdf2 = MSA_iOSdf.join(pd.DataFrame(MSA_iOSdf.pop('review').tolist()))\n",
    "MSA_iOSdf2.head()"
   ]
  },
  {
   "attachments": {},
   "cell_type": "markdown",
   "metadata": {},
   "source": [
    "**Step 3**\n",
    "\n",
    "Split out the ***developerResponse*** data from the dataset as ***devdf***\n",
    "\n",
    "Change the series data in ***developerResponse*** into a Dataframe"
   ]
  },
  {
   "cell_type": "code",
   "execution_count": 20,
   "metadata": {},
   "outputs": [
    {
     "data": {
      "text/html": [
       "<div>\n",
       "<style scoped>\n",
       "    .dataframe tbody tr th:only-of-type {\n",
       "        vertical-align: middle;\n",
       "    }\n",
       "\n",
       "    .dataframe tbody tr th {\n",
       "        vertical-align: top;\n",
       "    }\n",
       "\n",
       "    .dataframe thead th {\n",
       "        text-align: right;\n",
       "    }\n",
       "</style>\n",
       "<table border=\"1\" class=\"dataframe\">\n",
       "  <thead>\n",
       "    <tr style=\"text-align: right;\">\n",
       "      <th></th>\n",
       "      <th>id</th>\n",
       "      <th>body</th>\n",
       "      <th>modified</th>\n",
       "    </tr>\n",
       "  </thead>\n",
       "  <tbody>\n",
       "    <tr>\n",
       "      <th>0</th>\n",
       "      <td>35171306.0</td>\n",
       "      <td>We're sorry that you're having issues with you...</td>\n",
       "      <td>2023-03-02T19:50:01Z</td>\n",
       "    </tr>\n",
       "    <tr>\n",
       "      <th>1</th>\n",
       "      <td>NaN</td>\n",
       "      <td>NaN</td>\n",
       "      <td>NaN</td>\n",
       "    </tr>\n",
       "    <tr>\n",
       "      <th>2</th>\n",
       "      <td>34672035.0</td>\n",
       "      <td>We're sorry that you're having issues with you...</td>\n",
       "      <td>2023-02-04T11:32:58Z</td>\n",
       "    </tr>\n",
       "    <tr>\n",
       "      <th>3</th>\n",
       "      <td>NaN</td>\n",
       "      <td>NaN</td>\n",
       "      <td>NaN</td>\n",
       "    </tr>\n",
       "    <tr>\n",
       "      <th>4</th>\n",
       "      <td>NaN</td>\n",
       "      <td>NaN</td>\n",
       "      <td>NaN</td>\n",
       "    </tr>\n",
       "  </tbody>\n",
       "</table>\n",
       "</div>"
      ],
      "text/plain": [
       "           id                                               body  \\\n",
       "0  35171306.0  We're sorry that you're having issues with you...   \n",
       "1         NaN                                                NaN   \n",
       "2  34672035.0  We're sorry that you're having issues with you...   \n",
       "3         NaN                                                NaN   \n",
       "4         NaN                                                NaN   \n",
       "\n",
       "               modified  \n",
       "0  2023-03-02T19:50:01Z  \n",
       "1                   NaN  \n",
       "2  2023-02-04T11:32:58Z  \n",
       "3                   NaN  \n",
       "4                   NaN  "
      ]
     },
     "execution_count": 20,
     "metadata": {},
     "output_type": "execute_result"
    }
   ],
   "source": [
    "df = MSA_iOSdf2.developerResponse\n",
    "devdf = pd.json_normalize(df)\n",
    "devdf.head()"
   ]
  },
  {
   "attachments": {},
   "cell_type": "markdown",
   "metadata": {},
   "source": [
    "**Step 4**\n",
    "\n",
    "Add an index column to both dataframes, ***devdf*** & ***MSA_iOSdf2***\n",
    "\n",
    "As the dataset was split without being reordered, the index column can be used to merge both dataframes\n",
    "\n",
    "Rearrange the columns using **iloc** as ***combinedReorder***"
   ]
  },
  {
   "cell_type": "code",
   "execution_count": 21,
   "metadata": {},
   "outputs": [],
   "source": [
    "devdf['index']=devdf.index\n",
    "MSA_iOSdf2['index']=MSA_iOSdf2.index\n",
    "combined = devdf.merge(MSA_iOSdf2, how = 'outer', right_on='index', left_on='index')\n",
    "combined.rename(columns={'body':'dev response','modified':'dev response date','date':'review date','title':'review title'}, inplace=True)\n",
    "combinedReorder = combined.iloc[:,[3,0,2,1,4,9,6,7,8,10,5]]"
   ]
  },
  {
   "cell_type": "markdown",
   "metadata": {},
   "source": []
  },
  {
   "attachments": {},
   "cell_type": "markdown",
   "metadata": {},
   "source": [
    "**Step 5**\n",
    "\n",
    "Drop the ***developerResponse*** & ***index*** column from the dataset\n",
    "\n",
    "The ***devdf*** dataframe already pulled and formatted the required data from ***developerResponse*** in Step 3\n",
    "\n",
    "Export the ***CombinedFinal*** dataframe to a CSV file"
   ]
  },
  {
   "cell_type": "code",
   "execution_count": 22,
   "metadata": {},
   "outputs": [],
   "source": [
    "combinedFinal = combinedReorder.drop(columns=[\"developerResponse\",\"index\"])\n",
    "combinedFinal.to_csv('MSA_iOS_Reviews.csv')"
   ]
  },
  {
   "cell_type": "code",
   "execution_count": null,
   "metadata": {},
   "outputs": [],
   "source": []
  }
 ],
 "metadata": {
  "kernelspec": {
   "display_name": "Python 3",
   "language": "python",
   "name": "python3"
  },
  "language_info": {
   "codemirror_mode": {
    "name": "ipython",
    "version": 3
   },
   "file_extension": ".py",
   "mimetype": "text/x-python",
   "name": "python",
   "nbconvert_exporter": "python",
   "pygments_lexer": "ipython3",
   "version": "3.11.2"
  },
  "orig_nbformat": 4
 },
 "nbformat": 4,
 "nbformat_minor": 2
}
